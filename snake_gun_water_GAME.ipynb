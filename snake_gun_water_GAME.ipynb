{
 "cells": [
  {
   "cell_type": "code",
   "execution_count": 11,
   "metadata": {},
   "outputs": [
    {
     "name": "stdout",
     "output_type": "stream",
     "text": [
      "Computer Turn: Snake(1) Water(2) or Gun(3)?\n",
      "User Turn: Snake(1) Water(2) or Gun(3)?\n",
      "2\n",
      "Computer chose 2\n",
      "You chose 2\n",
      "The game is a tie!\n"
     ]
    }
   ],
   "source": [
    "# Snake Water Gun\n",
    "\n",
    "import random\n",
    "\n",
    "\n",
    "def Game(comp, user):\n",
    "    \n",
    "    # If two values are equal, declare a tie!\n",
    "    if comp == user:\n",
    "        return None\n",
    "\n",
    "    \n",
    "    # Check for all possibilities when computer chose s\n",
    "    elif comp == '1':\n",
    "        if user=='2':\n",
    "            return False\n",
    "        elif user=='3':\n",
    "            return True\n",
    "    \n",
    "    # Check for all possibilities when computer chose w\n",
    "    elif comp == '2':\n",
    "        if user=='3':\n",
    "            return False\n",
    "        elif user=='1':\n",
    "            return True\n",
    "    \n",
    "    # Check for all possibilities when computer chose g\n",
    "    elif comp == '3':\n",
    "        if user=='1':\n",
    "            return False\n",
    "        elif user=='2':\n",
    "            return True\n",
    "\n",
    "        \n",
    "print(\"Computer Turn: Snake(1) Water(2) or Gun(3)?\")\n",
    "randNo = random.randint(1, 3) \n",
    "if randNo == 1:\n",
    "    comp = '1'\n",
    "elif randNo == 2:\n",
    "    comp = '2'\n",
    "elif randNo == 3:\n",
    "    comp = '3'\n",
    "\n",
    "    \n",
    "user = input(\"User Turn: Snake(1) Water(2) or Gun(3)?\\n\")\n",
    "a = Game(comp, user)\n",
    "\n",
    "\n",
    "print(f\"Computer chose {comp}\")\n",
    "print(f\"You chose {user}\")\n",
    "\n",
    "\n",
    "if a == None:\n",
    "    print(\"The game is a tie!\")\n",
    "elif a:\n",
    "    print(\"You Win!\")\n",
    "else:\n",
    "    print(\"You Lose!\")"
   ]
  },
  {
   "cell_type": "code",
   "execution_count": null,
   "metadata": {},
   "outputs": [],
   "source": []
  }
 ],
 "metadata": {
  "kernelspec": {
   "display_name": "Python 3",
   "language": "python",
   "name": "python3"
  },
  "language_info": {
   "codemirror_mode": {
    "name": "ipython",
    "version": 3
   },
   "file_extension": ".py",
   "mimetype": "text/x-python",
   "name": "python",
   "nbconvert_exporter": "python",
   "pygments_lexer": "ipython3",
   "version": "3.7.4"
  }
 },
 "nbformat": 4,
 "nbformat_minor": 2
}
